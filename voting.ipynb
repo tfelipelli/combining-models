{
 "cells": [
  {
   "cell_type": "code",
   "execution_count": null,
   "metadata": {
    "collapsed": true
   },
   "outputs": [],
   "source": [
    "building multiple models (typically of differing types) \n",
    "and \n",
    "simple statistics (like calculating the mean) \n",
    "\n",
    "are used to combine predictions."
   ]
  },
  {
   "cell_type": "markdown",
   "metadata": {},
   "source": [
    "# voting ensemble"
   ]
  },
  {
   "cell_type": "code",
   "execution_count": null,
   "metadata": {
    "collapsed": true
   },
   "outputs": [],
   "source": [
    "one of the simplest ways of combining the predictions from multiple machine learning algorithms.\n",
    "\n",
    "it works by first creating two or more standalone models from your training dataset. \n",
    "\n",
    "a voting classifier can then be used to wrap your models \n",
    "and average the predictions of the sub-models when asked to make predictions for new data."
   ]
  },
  {
   "cell_type": "code",
   "execution_count": null,
   "metadata": {
    "collapsed": true
   },
   "outputs": [],
   "source": [
    "the predictions of the sub-models can be weighted, \n",
    "but specifying the weights for classifiers manually or even heuristically is difficult. \n",
    "\n",
    "more advanced methods can learn how to best weight the predictions from submodels, \n",
    "but this is called stacking (stacked aggregation) and is currently not provided in scikit-learn."
   ]
  }
 ],
 "metadata": {
  "kernelspec": {
   "display_name": "Python 3",
   "language": "python",
   "name": "python3"
  },
  "language_info": {
   "codemirror_mode": {
    "name": "ipython",
    "version": 3
   },
   "file_extension": ".py",
   "mimetype": "text/x-python",
   "name": "python",
   "nbconvert_exporter": "python",
   "pygments_lexer": "ipython3",
   "version": "3.6.3"
  }
 },
 "nbformat": 4,
 "nbformat_minor": 2
}
